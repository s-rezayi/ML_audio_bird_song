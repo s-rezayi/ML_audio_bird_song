{
 "cells": [
  {
   "cell_type": "code",
   "execution_count": 1,
   "id": "4589afc1",
   "metadata": {},
   "outputs": [],
   "source": [
    "import os\n",
    "import tensorflow as tf\n",
    "import tensorflow_io as tfio\n",
    "import matplotlib.pyplot as plt"
   ]
  },
  {
   "cell_type": "code",
   "execution_count": 2,
   "id": "5a00c4d0",
   "metadata": {},
   "outputs": [],
   "source": [
    "capuchin_bird = os.path.join('data', 'Parsed_Capuchinbird_Clips', 'XC3776-5.wav')\n",
    "noise = os.path.join('data', 'Parsed_Not_Capuchinbird_Clips', 'afternoon-birds-song-in-forest-2.wav')"
   ]
  },
  {
   "cell_type": "code",
   "execution_count": 3,
   "id": "5268c198",
   "metadata": {},
   "outputs": [],
   "source": [
    "def load_wav_16k_mono(file_path):\n",
    "    file = tf.io.read_file(file_path)\n",
    "    wav, sample_rate = tf.audio.decode_wav(file, desired_channels=1)\n",
    "    wav = tf.squeeze(wav, axis=-1)\n",
    "    sample_rate = tf.cast(sample_rate, dtype=tf.int64)\n",
    "    wav = tfio.audio.resample(wav, rate_in=sample_rate, rate_out=16000)\n",
    "    return wav"
   ]
  },
  {
   "cell_type": "code",
   "execution_count": 4,
   "id": "c3446993",
   "metadata": {},
   "outputs": [],
   "source": [
    "capuchin_bird_wave = load_wav_16k_mono(capuchin_bird)\n",
    "noise_wave = load_wav_16k_mono(noise)"
   ]
  },
  {
   "cell_type": "code",
   "execution_count": 5,
   "id": "28ff6597",
   "metadata": {},
   "outputs": [
    {
     "data": {
      "text/plain": [
       "<matplotlib.legend.Legend at 0x22f365e4670>"
      ]
     },
     "execution_count": 5,
     "metadata": {},
     "output_type": "execute_result"
    },
    {
     "data": {
      "image/png": "[encoded data removed]",
      "text/plain": [
       "<Figure size 432x288 with 1 Axes>"
      ]
     },
     "metadata": {
      "needs_background": "light"
     },
     "output_type": "display_data"
    }
   ],
   "source": [
    "plt.plot(capuchin_bird_wave, label='capuchin_bird')\n",
    "plt.plot(noise_wave, label='noise')\n",
    "plt.legend()"
   ]
  },
  {
   "cell_type": "code",
   "execution_count": 6,
   "id": "457c5a33",
   "metadata": {},
   "outputs": [],
   "source": [
    "capuchin_bird_dataset = os.path.join('data', 'Parsed_Capuchinbird_Clips')\n",
    "noise_dataset = os.path.join('data', 'Parsed_Not_Capuchinbird_Clips')"
   ]
  },
  {
   "cell_type": "code",
   "execution_count": 7,
   "id": "f377e2ee",
   "metadata": {},
   "outputs": [],
   "source": [
    "capuchin_bird_data = tf.data.Dataset.list_files(capuchin_bird_dataset +'\\*.wav')\n",
    "noise_data = tf.data.Dataset.list_files(noise_dataset +'\\*.wav')"
   ]
  },
  {
   "cell_type": "code",
   "execution_count": 8,
   "id": "62756016",
   "metadata": {},
   "outputs": [
    {
     "data": {
      "text/plain": [
       "b'data\\\\Parsed_Capuchinbird_Clips\\\\XC395129-6.wav'"
      ]
     },
     "execution_count": 8,
     "metadata": {},
     "output_type": "execute_result"
    }
   ],
   "source": [
    "capuchin_bird_data.as_numpy_iterator().next()"
   ]
  },
  {
   "cell_type": "code",
   "execution_count": 16,
   "id": "fa418c60",
   "metadata": {},
   "outputs": [],
   "source": [
    "def get_label(dataset_zero_label, dataset_one_label):\n",
    "    len_zeros = len(dataset_zero_label)\n",
    "    len_ones = tf.ones(len(dataset_one_label))\n",
    "    negatives = tf.data.Dataset.zip((dataset_zero_label, \n",
    "                                     tf.data.Dataset.from_tensor_slices(tf.zeros(len_zeros))))\n",
    "    positives = tf.data.Dataset.zip((dataset_one_label,\n",
    "                                     tf.data.Dataset.from_tensor_slices(len_ones)))\n",
    "    data = positives.concatenate(negatives)\n",
    "    return data"
   ]
  },
  {
   "cell_type": "code",
   "execution_count": 17,
   "id": "7eba5d38",
   "metadata": {},
   "outputs": [],
   "source": [
    "data = get_label(capuchin_bird_data, noise_data)"
   ]
  },
  {
   "cell_type": "code",
   "execution_count": 21,
   "id": "222b1e6e",
   "metadata": {},
   "outputs": [
    {
     "ename": "TypeError",
     "evalue": "DatasetV2.shuffle() missing 1 required positional argument: 'buffer_size'",
     "output_type": "error",
     "traceback": [
      "\u001b[1;31m---------------------------------------------------------------------------\u001b[0m",
      "\u001b[1;31mTypeError\u001b[0m                                 Traceback (most recent call last)",
      "Input \u001b[1;32mIn [21]\u001b[0m, in \u001b[0;36m<cell line: 1>\u001b[1;34m()\u001b[0m\n\u001b[1;32m----> 1\u001b[0m \u001b[43mdata\u001b[49m\u001b[38;5;241;43m.\u001b[39;49m\u001b[43mshuffle\u001b[49m\u001b[43m(\u001b[49m\u001b[43m)\u001b[49m\u001b[38;5;241m.\u001b[39mas_numpy_iterator()\u001b[38;5;241m.\u001b[39mnext()\n",
      "\u001b[1;31mTypeError\u001b[0m: DatasetV2.shuffle() missing 1 required positional argument: 'buffer_size'"
     ]
    }
   ],
   "source": [
    "data.shuffle().as_numpy_iterator().next()"
   ]
  },
  {
   "cell_type": "code",
   "execution_count": null,
   "id": "6e420ff2",
   "metadata": {},
   "outputs": [],
   "source": []
  },
  {
   "cell_type": "code",
   "execution_count": null,
   "id": "cc49895a",
   "metadata": {},
   "outputs": [],
   "source": []
  }
 ],
 "metadata": {
  "kernelspec": {
   "display_name": "Python 3 (ipykernel)",
   "language": "python",
   "name": "python3"
  },
  "language_info": {
   "codemirror_mode": {
    "name": "ipython",
    "version": 3
   },
   "file_extension": ".py",
   "mimetype": "text/x-python",
   "name": "python",
   "nbconvert_exporter": "python",
   "pygments_lexer": "ipython3",
   "version": "3.10.4"
  }
 },
 "nbformat": 4,
 "nbformat_minor": 5
}
